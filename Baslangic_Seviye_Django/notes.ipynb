{
 "cells": [
  {
   "cell_type": "markdown",
   "metadata": {},
   "source": [
    "Yazılım, Kodlama ve İnternet Konseptleri - 1\n",
    "- Wi-Fi (Wireless Fidelity) kablosuz olarak modeme bağlanırken kullanılır.\n",
    "- CAT 5 ve CAT 6 kablolu olarak modeme bağlanmak için kullanılır.\n",
    "- LAN (Local Area Network) bir modem üstünden farklı cihazların bağlanıp olşturduğu bölgeye denir.\n",
    "- TCP Protocol bir iletim protokolüdür. Ufak paketlere ayırıp yollar ister LAN içerisinde isterse internete gönderir ve alır.\n",
    "- IP Address (Internet Protocol Address) internet üzerindeki bir cihazın IP adresidir. Bir iç birde dış IP vardır. İç IP ile LAN da bağlantı sağlarken, Dış IP ile WAN'daki farklı LAN'lara bağlanmak için kullanılır.\n",
    "- WAN (Wide Area Network) bir modem üstünden farklı LAN lara bağlanılmasına denir. Bütün bunlara Internet denir.\n",
    "- Domain Name (Alan Adı) bir internet üzerindeki bir cihazın alan adıdır. IP ile eşleşir. DNS (Domain Name Server) tüm alan adlarını ve IPlerin toplandığı yerdir.\n",
    "- Client (İstemci) bir şeyleri isteyendir. Server (Sunucu) bir şeyleri isteyenlerin istediğini yapan veya gönderendir.\n",
    "- HTTP (Hyper Text Transfer Protocol) bir internet üzerindeki bir cihazın HTTP protokolüdür. İstemci tarafından istenen bir sayfaya istek gönderir. Sunucu istekte bulunan sayfayı gönderir.\n",
    "- HTTPS (Hyper Text Transfer Protocol Secure) bir internet üzerindeki bir cihazın HTTPS protokolüdür. İstemci tarafından istenen bir sayfaya istek gönderir. Sunucu istekte bulunan sayfayı gönderir. Güvenliyse bu protokolü alır."
   ]
  },
  {
   "cell_type": "markdown",
   "metadata": {},
   "source": [
    "Yazılım, Kodlama ve İnternet Konseptleri - 2\n",
    "- Akış diyagramları görselleştirme yapmak için. Pseudocode (yalancı kod) neyin nasıl yapılacağını kodlama gibi göstermek.\n",
    "- Delphi: Bir dil değil DOS ortamında Pascal dilini kullanır. Endüstriye uygulama geliştirmede iyi. Arayüz gibi bir şey.\n",
    "Mobil Uygulama\n",
    "- Native: Uygulamanın yapılacak işletim sistemine özel dille geliştirilen uygulamalara denir. Swift(iOS), Kotlin(Android), Java(Java).\n",
    "- Hybrid: Tek kodlamayla çoklu platforma destek vermesi. Flutter, React Native, Vue Native, Ionic, Xamarin.\n",
    "Web Uygulama\n",
    "- Gördüğün dokun her şey frontenddir. HTML, CSS, Java Script\n",
    "- Arkaplanda kontroller, siteler arası bağlantıların sağlanması gibi şeyleri sağlar. C#, Java, Python, GO, JavaScript (Node.js), Ruby.\n",
    "- Online Challenge: HackerRank, Codility, Project Euler."
   ]
  },
  {
   "cell_type": "markdown",
   "metadata": {},
   "source": [
    "Yazılım Nedir?\n",
    "- Uygulama Yazılımlar: bir ihtiyaca bağlı çıkan yazılımlardır.\n",
    "- Sistem Yazılımlar: işletim sistemlerine denir.\n",
    "- Zararlı Yazılımlar: problem yaratan yazılımlardır."
   ]
  },
  {
   "cell_type": "markdown",
   "metadata": {},
   "source": [
    "Google'lamak\n",
    "- Etkili arama yapmak için\n",
    "    - Olabildiğince basite indirge.\n",
    "    - Kelime dizilimine dikkat et.\n",
    "    - Gereksiz şeylere (heceleme, büyük küçük harf, noktalama işaretleri, özel karakterler) dikkat etmesenizde olur.\n",
    "    - Dosyalara ulaşmak için istediğiniz şey sonra \"filetype:\" ve aradığın dosya türünü yazıp arama yapın\n",
    "    - Cümlede unuttuğunuz kısıma * * (iki yıldız koyarak) aratma yaparak bulabilirsiniz.\n",
    "    - Tekli kelimeler halinde değil çoklu arama yapacaksanız kelimeleri \" \" (tırnak işareti) içine alın.\n",
    "    - Bir siteye özel arama yapmak için istediğiniz şey sonra \"site:\" yazıp ardına sitenin ismini yazabilirsiniz.\n",
    "    - Sosyal medya araması yapmak istiyorsanız # (hashtag) kullanarak yapabilirsiniz veya @ işaretiyle kişi veya kurumları bulabilirsiniz.\n",
    "    - Bir kelimenin eş anlamlıları ile aratmak istiyorsanız kelimenin başına \"~\" koyun (Windows Alt Gr + ü, MacOs option + ü).\n",
    "    - Limitler arası arama için iki limit arasına .. koyabilirsiniz.\n",
    "    - İngilizce kelimenin tanımını görmek için kelime ardına \":define\" veya \"define:\" ardına kelimeyi yazarsanız size açıklamasını yapacaktır.\n",
    "    - Görsel üzerinden arama yapmak isterseniz arama yerinin yanındaki kamera işaretine tıklayıp görseli seçip sonrasında ona benzer her şeyi bulabilirsiniz veya daha spesifik arama yapmak için yanına kelimeler yazabilirsiniz.\n",
    "\n",
    "- Yapılabilecekler\n",
    "    - Kolaylıkla matematiksel işlemleri yapabilirsiniz.\n",
    "    - Birim çevirileri yapabilirsiniz.\n",
    "    - Uçuş numarasını arattığınız kolaylıkla tüm bilgilere erişebilirsiniz.\n",
    "    - Zar at veya roll a die dediğinizde istediğiniz zarı seçip zar atabilirsiniz."
   ]
  },
  {
   "cell_type": "markdown",
   "metadata": {},
   "source": [
    "Farklı Platformlar\n",
    "- __[Stack Overflow](https://stackoverflow.com/)__: A-Z'ye farklı konularda ve yoğunlukla programlama ve kodlamada çıkan problem veya soruların sorulup cevaplandığı yerdir. Burda kolaylıkla aradığınız sorunun çözümü veya sorunuzu sorup çözümünü alabileceksinizdir.\n",
    "- __[HackerRank](https://www.hackerrank.com/)__: Farklı yazılım ve programalama dillerinde konularında challengeların prep kitlerin olduğu yerdir. Teknik test hazırlığı için kullanılabilecek güzel bir site. Şirketler burda test hazırlayıp yollayabilir.\n",
    "- __[Codility](https://www.codility.com/)__: HackerRank'e benzer bir yapısı vardır yine burdan kendini geliştirebilirsin veya şirketler test hazırlayıp yollayabilir.\n",
    "- __[Project Euler](https://projecteuler.net/)__: Farklı matematiksel problemlerin yer aldığı ve sizden bunların kodlamasını bekleyen bir site. Bu sayede farklı düşünmeyi ve problem çözme yeteneklerini geliştirmede birebir. Farklı görüşler elde etmek içinde internette bu problemi aratıp başkaları nasıl çözmüş görebilirsiniz.\n",
    "- __[GitHub](https://github.com/)__: Proje yönetimi ve versiyon kontrolü için kullanılan bir platform. Yine developerlar için bir sosyal ağ görevide görüyor. Tarayıcı üstünde VS Code açabilrsiniz (GitHub'ın değil ama open source bir proje) (örneğin https://github.com/ugurcanuzunkaya/Patika-Paths yerine github'ın sonuna 1s eklerseniz https://github1s.com/ugurcanuzunkaya/Patika-Paths VS Code üzerinden açarak okuyabilirsiniz). GitHub Copilot waitlistine girip gelmesi halinde size yardımcı bir developer gibi çalışacaktır.\n",
    "- __[CodeWars](https://www.codewars.com/)__: Kodlama yeteğinizi geliştirmenizde işinize yarayacak farklı bir kaynak.\n",
    "- __[LeetCode](https://leetcode.com/)__: Kodlama yeteğinizi geliştirmenizde işinize yarayacak farklı bir kaynak.\n",
    "- __[edabit](https://edabit.com/)__: Kodlama yeteğinizi geliştirmenizde işinize yarayacak farklı bir kaynak.\n",
    "- __[repl.it](https://repl.it/)__: Online olarak arkadaşlarınzla beraber kodlama yapabileceğiniz bir yer.\n",
    "- __[CodePen](https://codepen.io/)__: repl.it benzeri bir platform.\n",
    "- __[Exercisim.io](https://exercism.io/)__: Kodlama yeteğinizi geliştirmenizde işinize yarayacak farklı bir kaynak.\n"
   ]
  },
  {
   "cell_type": "markdown",
   "metadata": {},
   "source": [
    "Visual Studio Code\n",
    "- Git Bash linux komutlarını kolaylıkla Windowsda kullanmakta işe yarar. \n",
    "- __[Emmet](https://www.borakasmer.com/emmet-nedir/)__, __[CheatSheet](https://docs.emmet.io/cheat-sheet/)__\n",
    "- Kısayollar \n",
    "    - Ctrl+P ile arama, arama içine > yazınca ayarları görüyoruz.\n",
    "    - Ctrl+Tab ile açık dosyalar arasında gezebilirsin.\n",
    "    - Explorer kısmına tıklayıp (soldaki panele) bir şeyler yazmaya başlayınca filtreleme yapabilirsiniz.\n",
    "    - Ctrl+B ile soldaki paneli kapayıp açabiliriz.\n",
    "    - Ctrl+K+S ile tüm klavye kısayollarını görülebilir.\n",
    "    - Ctrl+K ve biraz bekleyip sadece S'ye basarsak (Ctrl ve K'dan elimizi çekip) tüm dosyaları kaydeder.\n",
    "    - Alt+Click ile istediğimiz kadar tıklayıp multicursor kullanabiliriz.\n",
    "    - Alt+Shift+Click ile istediğimiz kadar satır ve  sütun şeklinde daha hızlı seçebiliriz.\n",
    "    - Ctrl+D ile de aynı kelimeleri seçip multicursor özelliğinde yararlanıp değişiklik yapmaya izin verir.\n",
    "    - Alt+Aşağı ok aşağıya gitmeyi sağlar. Alt+Üst ok üste gitmeyi sağlar.\n",
    "    - Alt+Shift+Aşağı ok(Üst ok) seçilen satırın kopyasını altta oluşturur.\n",
    "    - Ctrl+Enter ile saturın neresinde olursanız olun bir alt satıra boşluk açıp oraya geçmenizi sağlar.\n",
    "    - Kısayollar için daha fazla bilgi __[Link](https://code.visualstudio.com/docs/getstarted/keybindings)__.\n",
    "- Snippets\n",
    "    - __[Snippets](https://code.visualstudio.com/docs/editor/userdefinedsnippets)__: Kullanıcı tarafından oluşturulan kısmalar.\n",
    "    - Ctrl+P, > yapıp snippets yazınca snippetse ulaşabiliriz. Farklı dillere özel kısmalar oluşturabilirsiniz. Bunların nasıl yapılacağını da içinde gösteriyor. \n",
    "    - Oluşturulan snippetsun prefixini yazıp tab'a basınca otomatik snippetsda kayıtlı olan kısmalarının çalışmasını sağlar."
   ]
  },
  {
   "cell_type": "markdown",
   "metadata": {},
   "source": [
    "VS Code içindeki Terminal\n",
    "- Dosya açarken klasik new file new folder ın dışında soldaki boş kısma sağ tıklayıp new file dedikten  sonra foldername/filename.extension yazıp enter dedikten sonra hem dosyayı hem de içine yeni doküman açmış   oluyorsun.\n",
    "- Ctrl+Shift+\" ile terminali açabiliriz çıkmak ve kapatmak içinde exit yazarak çıkabiliriz.\n",
    "- mkdir foldername ile foldername yerine istediğimiz adı yazıp o adda klasör oluşturabiliriz.\n",
    "- pwd ile şu anki konumu görüyoruz.\n",
    "- cd foldername ile istediğimiz klasörünün içine girebiliriz.\n",
    "- cd .. ile bir üst klasörünün içine girebiliriz.\n",
    "- cd ~ ile ev klasörünün içine girebiliriz. Eğer C de kurulu ise C:\\Users\\UserName 'e gider.\n",
    "- rm foldername ile istediğimiz klasörünün içindeki tüm dosyaları ve klasörleri siler.\n",
    "- ls ile klasörünün içindeki tüm dosyaları ve klasörleri görüntüler.\n",
    "- Ctrl+L ile terminal ekranını temizleyebiliriz."
   ]
  },
  {
   "cell_type": "markdown",
   "metadata": {},
   "source": [
    "GIT SCM Komutları (__[Git Documentation](https://git-scm.com/doc)__)\n",
    "- git init: İlk defa proje oluşturmak için kullanılır.\n",
    "- git add: Dosyalarınızı sisteme eklemek için kullanılır. sonuna . koyunca tüm dosyaları ekler.\n",
    "- git commit: Snapshot çekmesi için kullanılır. Remote repoya yollar. -- amend ekleyince önceki commiti değiştirebiliriz. İçeriğini ve/veya içeriğini değiştirebilirisiniz. -m ekleyince mesajınızı yazabilirsiniz. --amend -m ekleyince sadece mesajı değiştirebilirsiniz.\n",
    "- git status: Dosyalarınızın durumunu görüntüler. Ne değişmiş falan görülebilir.\n",
    "- git push: Dosyalarınızın durumunu GitHub'a gönderir. git commit yapılmadan yapılırsa hata vermez ve aktarma işlemini yapmaz. Commitlendikten sonra push işlemi yapılmalı.\n",
    "- git pull: GitHub'dan dosyalarınızı alır.\n",
    "- git clone: GitHub'dan projeyi klonlar.\n",
    "- git checkout: Proje içinde branchler arası geçiş yapabiliriz. Sonuna gidilecek branchin ismi yazılır. -b branch_name yazılırsa direkt yeni branch oluşturup geçiş yapar. Branch oluşturulurken olunan branch referans alınarak oluşturulur.\n",
    "- git rm: Proje içindeki bir dosyayı silebiliriz.\n",
    "- git diff: Snapshotlar arasındaki farkları görüntüler. İki farklı commit_id eklenirse onlar arasındaki farkları gösterir. Yine iki farklı commit_id ardına istenilen dosya ismi yazılırsa sadece o dosyada olan değişikleri gösterir.\n",
    "- git log: Proje içindeki geçmişi görüntüler.\n",
    "- git branch: Proje içindeki branchleri görüntüler. -a ekleyince sonuna tüm branchleri görüntüler. -d branch_name ekleyince ismi yazan branchi siler. Direkt branch_name yazılırsa yeni branch oluşturur. \n",
    "- git merge: Branchlar arasında birleştirme işlemi yapabiliriz ve merge edilen branch'deki tüm commitleri loglara ekler. Sonuna merge edilmek istenilen branch_name eklenir ve bulunan branche merge edilir. --squash branch_name yazdığımızda istenilen branchın içindeki değişiklikleri tek bir commit_id olarak alır. --abort yazılırsa merge işlemi iptal edilir.\n",
    "- git revert: Bir commit'i geri alabiliriz. Sonuna geri alınacak commit_id yazılır. Revert'i de revert edebiliriz.\n",
    "- git reset: --hard commit_id ekleyince istenilen commit'i geri alır. Aradaki tüm commitleri ve onların geçmişini siler. --soft sadece commiti geri alır ve \"Changes to be committed\" ekler log'a. \n",
    "- git stash: Proje içindeki son commit sonrası değişiklikleri bir yere kaydeder. Log'da gözükmez. Sonuna list eklenince tüm stashlenenelerin listesini görüntüler. clear ile tüm stashleri siler. Sonuna pop ekleyince en son stashleneni çıkarır ve listeden siler. Sonuna apply stash_id eklenirse istenilen stash'i getirir ve listede hâlâ durur. \n",
    "- git rebase: Branchdeki tüm commitleri rebase atılan branchin commitlerine ekler ve değişiklikleri uygular. mergele farkı mergede ikisini birleştirip yeni bir commit_id oluştururken rebasede yapılan commitleri linear olarak ekler log'a.\n",
    "\n",
    "GIT SCM\n",
    "- Conflict olursa VS Code'da kolaylıkla farklılıkları gösteriyor ve ordan istediğinizi seçip git add ve commit yapıp birleştirme işlemini bitirebilirsiniz. Burda önemli olan doğru olanı seçmek.\n",
    "- GitLab Github gibi ama firmalara sunulur ve firma içi git hizmetlerini sunar.\n",
    "- Medium yazısında Git Bash ile ilgili daha detaylı açıklamalar ve sonunda kısa özet var uygulamalı __[Link](https://medium.com/fedeveloper/git-bash-ile-komut-komut-versiyonlama-a354efd3063f)__, __[Git Cheat Sheet](https://www.jrebel.com/blog/git-cheat-sheet)__, __[Farklı site](http://guides.beanstalkapp.com/version-control/common-git-commands.html)__.\n",
    "- VS Code içindeki terminalle de Git Bash'de yapılan komutları yazabiliriz ve işlemleri yapabiliriz. \n",
    "- Favorim GitHub kullanılıyorsa GitHub Desktop'dan tüm işlemleri yapmak. Her şey daha kolay. VS Code içindeki source controlde kolaylık sağlar.\n",
    "\n",
    "Terimler\n",
    "- untracked: GIT tarafından henüz takip edilmeyen, yani yeni oluşturulmuş dosyaları ifade eder.\n",
    "- unstaged: Güncellenmiş ancak commitlenmek için hazırlanmamış dosyaları ifade eder.\n",
    "- staged: Güncellenmiş ve commitlenmiş dosyaları ifade eder.\n",
    "- deleted: Projeden silinmiş ama GIT üzerinden kaldırılmamış dosyaları ifade eder.\n",
    "\n",
    ".gitignore\n",
    "- Versiyonlamak istenmeyen yapıları versiyon kontrol sistemlerinde gizlemek için kullanılır.\n",
    "- Örneğin: logolar, videolar, görseller\n",
    "- \"git ignore programlama dili\" programlama dili yerine istenen dili (Python, Java gibi) yazıp kolaylıkla neleri koymaya gerek yok olduğunun bulunduğu git ignore dosyaları çıkıyor.\n",
    "- Detaylı bilgi ve ekstra linkler için __[Link](https://app.patika.dev/courses/git/gitignore-dosyasi-ne-i%CC%87se-yarar-nasil-kullaniriz)__.\n"
   ]
  },
  {
   "cell_type": "markdown",
   "metadata": {},
   "source": [
    "Markdown\n",
    "- Bilgi için __[Markdown Guide](https://www.markdownguide.org/cheat-sheet)__, __[IBM Markdown Guide](https://www.ibm.com/docs/en/watson-studio-local/1.2.3?topic=notebooks-markdown-jupyter-cheatsheet)__, __[Patika Markdown Guide](https://app.patika.dev/courses/git/markdown-nedir-nasil-kullaniriz-)__.\n"
   ]
  },
  {
   "cell_type": "markdown",
   "metadata": {},
   "source": [
    "Lisans\n",
    "- Lisans seçiminde bilgi almak için __[Link](https://choosealicense.com/)__.\n",
    "- "
   ]
  }
 ],
 "metadata": {
  "interpreter": {
   "hash": "d7288e82646d3164eca24130947288f8779d11454649f2c02a5dfc42af7f324c"
  },
  "kernelspec": {
   "display_name": "Python 3.7.11",
   "language": "python",
   "name": "python3"
  },
  "language_info": {
   "name": "python",
   "version": "3.7.11"
  },
  "orig_nbformat": 4
 },
 "nbformat": 4,
 "nbformat_minor": 2
}
