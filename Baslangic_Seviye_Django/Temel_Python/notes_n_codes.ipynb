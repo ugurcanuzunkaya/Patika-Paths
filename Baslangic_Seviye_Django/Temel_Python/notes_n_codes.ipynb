{
 "cells": [
  {
   "cell_type": "markdown",
   "metadata": {},
   "source": [
    "Data Objects\n",
    "- Scalar: Daha alt parçalara bölünemeyen yapılar (sayılar vs.)\n",
    "    - Integer: Tam sayılar. int() fonksiyonu ile istenilen şeyi tam sayıya çevirmeye çalışır.\n",
    "    - Float: Kesirli sayılar. float() fonksiyonu ile istenilen şeyi kesirli sayıya çevirmeye çalışır.\n",
    "    - Boolean: True/False değerleri (sayısalları 1/0)\n",
    "- Non-scalar: Daha alt parçalara bölünebilen, içsel yapısına erişilebilen yapılar (listeler vs.)\n",
    "    - String: Metinsel veri. str() fonksiyonu ile istenilen şeyi metinsel veriye çevirmeye çalışır. \"\" veya '' arasına yazılan şeyi metinsel veri olarak kabul eder. \n",
    "<br>\n",
    "\n",
    "Veri Tipleri\n",
    "- Mutable: Değiştirilebilen. İçindeki parçaları/elemanları değiştirebiliriz. (Listeler, Dictonaries, Sets vs.)\n",
    "- Immutable: Değiştirilemez. İçindeki parçaları/elemanları değiştiremeyiz. (Tuples, Strings vs.)"
   ]
  },
  {
   "cell_type": "markdown",
   "metadata": {},
   "source": [
    "Fonksiyonlar\n",
    "- type(): Yapı tipini gösterir.\n"
   ]
  },
  {
   "cell_type": "markdown",
   "metadata": {},
   "source": [
    "Operatörler\n",
    "- +: Toplama, -: Çıkarma, *: Çarpma, /: Bölme (float olarak çevirir), %: Mod, **: Üs, //: Tam bölme (direkt int olarak çevirir)\n",
    "- <: Küçük, >: Büyük, <=: Küçük veya eşit, >=: Büyük veya eşit, ==: Eşitlik, !=: Eşit değil\n",
    "- and: ve, or: veya, not: değil, in: içerik var mı?, not in: içerik yok mu?, is: eşit mi?, is not: eşit değil mi?\n",
    "- \\': Kesme işareti, \\n: Satır başı, \\t: Tab, \\\\: \\' için escape karakteri, \\\": Tırnak, \\b: Silme (sadece command line'da geçerli), \\r: Silme\n"
   ]
  },
  {
   "cell_type": "code",
   "execution_count": 11,
   "metadata": {},
   "outputs": [
    {
     "name": "stdout",
     "output_type": "stream",
     "text": [
      "Let's go!\n",
      "Have a chat.\n",
      "\n",
      "How are you?\t Fine too.\n",
      "\\ss\n",
      "\"Lets go!\" is wrong.\n",
      " nice thing.\n"
     ]
    }
   ],
   "source": [
    "# - \\': Kesme işareti, \\n: Satır başı, \\t: Tab, \\\\: \\' için escape karakteri, \\\": Tırnak, \\b: Silme (sadece command line'da geçerli), \\r: Silme\n",
    "print(\"Let\\'s go!\")\n",
    "print(\"Have a chat.\\n\")\n",
    "print(\"How are you?\\t Fine too.\")\n",
    "print(\"\\\\ss\")\n",
    "print(\"\\\"Lets go!\\\" is wrong.\")\n",
    "print(\"sadkjasld \\r nice thing.\")\n",
    "\n"
   ]
  },
  {
   "cell_type": "code",
   "execution_count": 12,
   "metadata": {},
   "outputs": [
    {
     "name": "stdout",
     "output_type": "stream",
     "text": [
      "Bugün Mecidiyeköy'den Mecidiyeköy'\\e 40 dakikada gittim.\n"
     ]
    }
   ],
   "source": [
    "print(\"Bugün Mecidiyeköy\\'den Mecidiyeköy'\\e 40 dakikada gittim.\")"
   ]
  }
 ],
 "metadata": {
  "interpreter": {
   "hash": "d7288e82646d3164eca24130947288f8779d11454649f2c02a5dfc42af7f324c"
  },
  "kernelspec": {
   "display_name": "Python 3.7.11",
   "language": "python",
   "name": "python3"
  },
  "language_info": {
   "codemirror_mode": {
    "name": "ipython",
    "version": 3
   },
   "file_extension": ".py",
   "mimetype": "text/x-python",
   "name": "python",
   "nbconvert_exporter": "python",
   "pygments_lexer": "ipython3",
   "version": "3.7.13"
  },
  "orig_nbformat": 4
 },
 "nbformat": 4,
 "nbformat_minor": 2
}
