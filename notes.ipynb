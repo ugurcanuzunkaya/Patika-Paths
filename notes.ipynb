{
 "cells": [
  {
   "cell_type": "markdown",
   "metadata": {},
   "source": [
    "Yazılım, Kodlama ve İnternet Konseptleri - 1\n",
    "- Wi-Fi (Wireless Fidelity) kablosuz olarak modeme bağlanırken kullanılır.\n",
    "- CAT 5 ve CAT 6 kablolu olarak modeme bağlanmak için kullanılır.\n",
    "- LAN (Local Area Network) bir modem üstünden farklı cihazların bağlanıp olşturduğu bölgeye denir.\n",
    "- TCP Protocol bir iletim protokolüdür. Ufak paketlere ayırıp yollar ister LAN içerisinde isterse internete gönderir ve alır.\n",
    "- IP Address (Internet Protocol Address) internet üzerindeki bir cihazın IP adresidir. Bir iç birde dış IP vardır. İç IP ile LAN da bağlantı sağlarken, Dış IP ile WAN'daki farklı LAN'lara bağlanmak için kullanılır.\n",
    "- WAN (Wide Area Network) bir modem üstünden farklı LAN lara bağlanılmasına denir. Bütün bunlara Internet denir.\n",
    "- Domain Name (Alan Adı) bir internet üzerindeki bir cihazın alan adıdır. IP ile eşleşir. DNS (Domain Name Server) tüm alan adlarını ve IPlerin toplandığı yerdir.\n",
    "- Client (İstemci) bir şeyleri isteyendir. Server (Sunucu) bir şeyleri isteyenlerin istediğini yapan veya gönderendir.\n",
    "- HTTP (Hyper Text Transfer Protocol) bir internet üzerindeki bir cihazın HTTP protokolüdür. İstemci tarafından istenen bir sayfaya istek gönderir. Sunucu istekte bulunan sayfayı gönderir.\n",
    "- HTTPS (Hyper Text Transfer Protocol Secure) bir internet üzerindeki bir cihazın HTTPS protokolüdür. İstemci tarafından istenen bir sayfaya istek gönderir. Sunucu istekte bulunan sayfayı gönderir. Güvenliyse bu protokolü alır."
   ]
  },
  {
   "cell_type": "markdown",
   "metadata": {},
   "source": [
    "Yazılım, Kodlama ve İnternet Konseptleri - 2\n",
    "- Akış diyagramları görselleştirme yapmak için. Pseudocode (yalancı kod) neyin nasıl yapılacağını kodlama gibi göstermek.\n",
    "- Delphi: Bir dil değil DOS ortamında Pascal dilini kullanır. Endüstriye uygulama geliştirmede iyi. Arayüz gibi bir şey.\n",
    "Mobil Uygulama\n",
    "- Native: Uygulamanın yapılacak işletim sistemine özel dille geliştirilen uygulamalara denir. Swift(iOS), Kotlin(Android), Java(Java).\n",
    "- Hybrid: Tek kodlamayla çoklu platforma destek vermesi. Flutter, React Native, Vue Native, Ionic, Xamarin.\n",
    "Web Uygulama\n",
    "- Gördüğün dokun her şey frontenddir. HTML, CSS, Java Script\n",
    "- Arkaplanda kontroller, siteler arası bağlantıların sağlanması gibi şeyleri sağlar. C#, Java, Python, GO, JavaScript (Node.js), Ruby.\n",
    "- Online Challenge: HackerRank, Codility, Project Euler."
   ]
  },
  {
   "cell_type": "markdown",
   "metadata": {},
   "source": [
    "Yazılım Nedir?\n",
    "- Uygulama Yazılımlar: bir ihtiyaca bağlı çıkan yazılımlardır.\n",
    "- Sistem Yazılımlar: işletim sistemlerine denir.\n",
    "- Zararlı Yazılımlar: problem yaratan yazılımlardır."
   ]
  },
  {
   "cell_type": "markdown",
   "metadata": {},
   "source": [
    "Google'lamak\n",
    "- Etkili arama yapmak için\n",
    "    - Olabildiğince basite indirge.\n",
    "    - Kelime dizilimine dikkat et.\n",
    "    - Gereksiz şeylere (heceleme, büyük küçük harf, noktalama işaretleri, özel karakterler) dikkat etmesenizde olur.\n",
    "    - Dosyalara ulaşmak için istediğiniz şey sonra \"filetype:\" ve aradığın dosya türünü yazıp arama yapın\n",
    "    - Cümlede unuttuğunuz kısıma * * (iki yıldız koyarak) aratma yaparak bulabilirsiniz.\n",
    "    - Tekli kelimeler halinde değil çoklu arama yapacaksanız kelimeleri \" \" (tırnak işareti) içine alın.\n",
    "    - Bir siteye özel arama yapmak için istediğiniz şey sonra \"site:\" yazıp ardına sitenin ismini yazabilirsiniz.\n",
    "    - Sosyal medya araması yapmak istiyorsanız # (hashtag) kullanarak yapabilirsiniz veya @ işaretiyle kişi veya kurumları bulabilirsiniz.\n",
    "    - Bir kelimenin eş anlamlıları ile aratmak istiyorsanız kelimenin başına \"~\" koyun (Windows Alt Gr + ü, MacOs option + ü).\n",
    "    - Limitler arası arama için iki limit arasına .. koyabilirsiniz.\n",
    "    - İngilizce kelimenin tanımını görmek için kelime ardına \":define\" veya \"define:\" ardına kelimeyi yazarsanız size açıklamasını yapacaktır.\n",
    "    - Görsel üzerinden arama yapmak isterseniz arama yerinin yanındaki kamera işaretine tıklayıp görseli seçip sonrasında ona benzer her şeyi bulabilirsiniz veya daha spesifik arama yapmak için yanına kelimeler yazabilirsiniz.\n",
    "\n",
    "- Yapılabilecekler\n",
    "    - Kolaylıkla matematiksel işlemleri yapabilirsiniz.\n",
    "    - Birim çevirileri yapabilirsiniz.\n",
    "    - Uçuş numarasını arattığınız kolaylıkla tüm bilgilere erişebilirsiniz.\n",
    "    - Zar at veya roll a die dediğinizde istediğiniz zarı seçip zar atabilirsiniz."
   ]
  }
 ],
 "metadata": {
  "language_info": {
   "name": "python"
  },
  "orig_nbformat": 4
 },
 "nbformat": 4,
 "nbformat_minor": 2
}
