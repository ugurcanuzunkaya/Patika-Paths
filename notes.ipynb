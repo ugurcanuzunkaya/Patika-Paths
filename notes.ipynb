{
 "cells": [
  {
   "cell_type": "markdown",
   "metadata": {},
   "source": [
    "Yazılım, Kodlama ve İnternet Konseptleri - 1\n",
    "- Wi-Fi (Wireless Fidelity) kablosuz olarak modeme bağlanırken kullanılır.\n",
    "- CAT 5 ve CAT 6 kablolu olarak modeme bağlanmak için kullanılır.\n",
    "- LAN (Local Area Network) bir modem üstünden farklı cihazların bağlanıp olşturduğu bölgeye denir.\n",
    "- TCP Protocol bir iletim protokolüdür. Ufak paketlere ayırıp yollar ister LAN içerisinde isterse internete gönderir.\n",
    "- IP Address (Internet Protocol Address) internet üzerindeki bir cihazın IP adresidir. Bir iç birde dış IP vardır. İç IP ile LAN da bağlantı sağlarken, Dış IP ile WAN'daki farklı LAN'lara bağlanmak için kullanılır.\n",
    "- WAN (Wide Area Network) bir modem üstünden farklı LAN lara bağlanılmasına denir. Bütün bunlara Internet denir.\n",
    "- Domain Name (Alan Adı) bir internet üzerindeki bir cihazın alan adıdır. IP ile eşleşir. DNS (Domain Name Server) tüm alan adlarını ve IPlerin toplandığı yerdir.\n",
    "- Client (İstemci) bir şeyleri isteyendir. Server (Sunucu) bir şeyleri isteyenlerin istediğini yapan veya gönderendir.\n",
    "- HTTP (Hyper Text Transfer Protocol) bir internet üzerindeki bir cihazın HTTP protokolüdür. İstemci tarafından istenen bir sayfaya istek gönderir. Sunucu istekte bulunan sayfayı gönderir.\n",
    "- HTTPS (Hyper Text Transfer Protocol Secure) bir internet üzerindeki bir cihazın HTTPS protokolüdür. İstemci tarafından istenen bir sayfaya istek gönderir. Sunucu istekte bulunan sayfayı gönderir. Güvenliyse bu protokolü alır."
   ]
  },
  {
   "cell_type": "markdown",
   "metadata": {},
   "source": [
    "Yazılım, Kodlama ve İnternet Konseptleri - 2\n",
    "- "
   ]
  }
 ],
 "metadata": {
  "language_info": {
   "name": "python"
  },
  "orig_nbformat": 4
 },
 "nbformat": 4,
 "nbformat_minor": 2
}
